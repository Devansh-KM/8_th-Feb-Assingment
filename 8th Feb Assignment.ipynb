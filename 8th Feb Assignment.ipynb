{
 "cells": [
  {
   "cell_type": "markdown",
   "id": "12f885d7",
   "metadata": {},
   "source": [
    "#### Q1. What is Abstraction in OOps? Explain with an example."
   ]
  },
  {
   "cell_type": "markdown",
   "id": "201be179",
   "metadata": {},
   "source": [
    "Ans .Abstraction is a process of hiding the internal details of an object and showing only relevant information to the outside world. It is one of the main principles of object-oriented programming (OOP).\n",
    "#### Example : Consider a calculator. The user only needs to know the basic features of the calculator such as its buttons, display, and functions. The user does not need to know the inner details such as the type of processor, the type of memory, etc. This is an example of abstraction. The internal details of the calculator are abstracted away and only the relevant information is presented to the user."
   ]
  },
  {
   "cell_type": "markdown",
   "id": "7193e860",
   "metadata": {},
   "source": [
    "#### Q2. Differentiate between Abstraction and Encapsulation. Explain with an example."
   ]
  },
  {
   "cell_type": "markdown",
   "id": "7ac8d183",
   "metadata": {},
   "source": [
    "Abstraction refers to the process of hiding the complexity of a system and showing only the necessary information to the user. It is a mechanism of hiding the implementation details from the user and showing only the functionality. For example, consider a calculator. The user is not concerned with how the calculations are performed, but only with the result. The implementation of the calculations is abstracted from the user.\n",
    "\n",
    "\n",
    "Encapsulation, on the other hand, refers to the practice of bundling the data (instance variables) and the functions (methods) that operate on that data within a single unit or object. Encapsulation is the technique of making the fields in a class private to hide their implementations from other objects and classes, accessing these private fields using public methods."
   ]
  },
  {
   "cell_type": "markdown",
   "id": "d4ad093d",
   "metadata": {},
   "source": [
    "Pyhon Program on both Abstraction and encapsulation"
   ]
  },
  {
   "cell_type": "markdown",
   "id": "c80a00bd",
   "metadata": {},
   "source": [
    "###### Abstraction Exmaple"
   ]
  },
  {
   "cell_type": "code",
   "execution_count": 4,
   "id": "9f57b75a",
   "metadata": {},
   "outputs": [
    {
     "name": "stdout",
     "output_type": "stream",
     "text": [
      "50.24\n"
     ]
    }
   ],
   "source": [
    "class Shape:\n",
    "    def area(self):\n",
    "        pass\n",
    "\n",
    "class Circle(Shape):\n",
    "    def __init__(self, radius):\n",
    "        self.__radius = radius\n",
    "        \n",
    "    def area(self):\n",
    "        return 3.14 * self.__radius * self.__radius\n",
    "\n",
    "c = Circle(4)\n",
    "print(c.area())"
   ]
  },
  {
   "cell_type": "markdown",
   "id": "e9a81ed1",
   "metadata": {},
   "source": [
    "##### Encapsulation Example\n"
   ]
  },
  {
   "cell_type": "code",
   "execution_count": 5,
   "id": "653dad73",
   "metadata": {},
   "outputs": [
    {
     "name": "stdout",
     "output_type": "stream",
     "text": [
      "Employee Name: John Doe\n",
      "Salary: 50000\n",
      "Updated Salary: 60000\n"
     ]
    }
   ],
   "source": [
    "class Employee:\n",
    "    def __init__(self, name, salary):\n",
    "        self.__name = name\n",
    "        self.__salary = salary\n",
    "        \n",
    "    def getName(self):\n",
    "        return self.__name\n",
    "    \n",
    "    def getSalary(self):\n",
    "        return self.__salary\n",
    "    \n",
    "    def setSalary(self, salary):\n",
    "        self.__salary = salary\n",
    "\n",
    "e = Employee(\"John Doe\", 50000)\n",
    "print(\"Employee Name:\", e.getName())\n",
    "print(\"Salary:\", e.getSalary())\n",
    "e.setSalary(60000)\n",
    "print(\"Updated Salary:\", e.getSalary())\n"
   ]
  },
  {
   "cell_type": "markdown",
   "id": "9014724f",
   "metadata": {},
   "source": [
    "#### Q3. What is abc module in python? Why is it used?"
   ]
  },
  {
   "cell_type": "markdown",
   "id": "19df3de1",
   "metadata": {},
   "source": [
    "The abc module (short for \"Abstract Base Classes\") in Python is part of the standard library and provides a way to define abstract classes. An abstract class is a class that contains one or more abstract methods, which are methods that declare their signature but don't provide an implementation.\n",
    "\n",
    "Abstract classes are useful when you want to define a common interface for a group of related classes, but you don't want to provide a complete implementation for every method. Instead, you want to require subclasses to provide their own implementations for some or all of the abstract methods.\n",
    "\n",
    "For example, if you want to define a common interface for a group of classes that represent different shapes (e.g. Circle, Square, Triangle, etc.), you might define an abstract class Shape with an abstract method area that calculates the area of the shape. Then, each concrete subclass (e.g. Circle, Square, Triangle) would need to provide its own implementation of the area method.\n",
    "\n",
    "In Python, you can define an abstract class using the abc module by using the ABC class as a base class and decorating abstract methods with the @abstractmethod decorator. "
   ]
  },
  {
   "cell_type": "code",
   "execution_count": 6,
   "id": "9de9b3a4",
   "metadata": {},
   "outputs": [],
   "source": [
    "import abc\n",
    "\n",
    "class Shape(metaclass=abc.ABCMeta):\n",
    "    @abc.abstractmethod\n",
    "    def area(self):\n",
    "        pass\n",
    "\n",
    "class Circle(Shape):\n",
    "    def __init__(self, radius):\n",
    "        self.radius = radius\n",
    "    \n",
    "    def area(self):\n",
    "        return 3.14 * self.radius * self.radius\n"
   ]
  },
  {
   "cell_type": "markdown",
   "id": "2c22e5a1",
   "metadata": {},
   "source": [
    "In this example, the Shape class is an abstract base class, and the Circle class is a concrete subclass that provides an implementation for the area method. If you try to create an instance of the Shape class directly, you'll get a TypeError because it's an abstract class."
   ]
  },
  {
   "cell_type": "markdown",
   "id": "07ce2d68",
   "metadata": {},
   "source": [
    "####  Q4 . How can we achieve data abstraction?"
   ]
  },
  {
   "cell_type": "markdown",
   "id": "a4c9a79a",
   "metadata": {},
   "source": [
    "Data abstraction is the process of hiding the implementation details of a data structure and exposing only the necessary information to the outside world. This allows for the underlying data to be changed or updated without affecting the rest of the system, and enables modularity and separation of concerns in software design.\n",
    "\n",
    "There are several ways to achieve data abstraction in programming, including:\n",
    "\n",
    "Abstraction through Encapsulation: \n",
    "\n",
    "Abstraction through Interfaces: \n",
    "\n",
    "Abstraction through Functions: \n",
    "\n",
    "Abstraction through Modules: \n",
    "\n",
    "In summary, data abstraction allows for modularity and separation of concerns, making software easier to maintain and debug, and can be achieved through encapsulation, interfaces, functions, and modules."
   ]
  },
  {
   "cell_type": "markdown",
   "id": "7eb44f8f",
   "metadata": {},
   "source": [
    "#### Q5. Can we create an instance of an abstract class? Explain your answer."
   ]
  },
  {
   "cell_type": "markdown",
   "id": "727e0daf",
   "metadata": {},
   "source": [
    "No, it is not possible to create an instance of an abstract class. An abstract class is a class that is declared with the keyword abstract and it cannot be instantiated. Abstract classes are used to provide an interface for its subclasses, and it can contain abstract methods (methods without a body) which the subclasses must implement."
   ]
  },
  {
   "cell_type": "code",
   "execution_count": null,
   "id": "35bb0c58",
   "metadata": {},
   "outputs": [],
   "source": []
  }
 ],
 "metadata": {
  "kernelspec": {
   "display_name": "Python 3 (ipykernel)",
   "language": "python",
   "name": "python3"
  },
  "language_info": {
   "codemirror_mode": {
    "name": "ipython",
    "version": 3
   },
   "file_extension": ".py",
   "mimetype": "text/x-python",
   "name": "python",
   "nbconvert_exporter": "python",
   "pygments_lexer": "ipython3",
   "version": "3.9.13"
  }
 },
 "nbformat": 4,
 "nbformat_minor": 5
}
